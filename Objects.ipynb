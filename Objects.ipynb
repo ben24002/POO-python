{
 "cells": [
  {
   "cell_type": "code",
   "execution_count": 1,
   "id": "1b241cf0",
   "metadata": {},
   "outputs": [
    {
     "name": "stdout",
     "output_type": "stream",
     "text": [
      "Blu is a bird\n",
      "Woo is also a bird\n"
     ]
    }
   ],
   "source": [
    "class Parrot :\n",
    "    \n",
    "    species = \"bird\"\n",
    "    \n",
    "    def __initt__(self):\n",
    "        print(\"Bird is ready\")\n",
    "    \n",
    "    def whoisThis(self):\n",
    "        print(\"Bird\")\n",
    "    \n",
    "    def swim(self):\n",
    "        print(\"Swim faster\")\n",
    "    \n",
    "    def __init__(self, name, age):\n",
    "        self.name = name\n",
    "        self.age = age\n",
    "        \n",
    "    def sing(self, song):\n",
    "        return \"{} sings {}\".format(self.name, song)\n",
    "        \n",
    "    def dance(self):\n",
    "        return \"{} is now dancing\".format(self.name)\n",
    "\n",
    "blu = Parrot(\"Blu\", 10)\n",
    "woo = Parrot(\"Woo\", 15)\n",
    "\n",
    "print(\"Blu is a {}\".format(blu.__class__.species))\n",
    "print(\"Woo is also a {}\".format(woo.__class__.species))"
   ]
  },
  {
   "cell_type": "code",
   "execution_count": 2,
   "id": "67722e79",
   "metadata": {},
   "outputs": [
    {
     "name": "stdout",
     "output_type": "stream",
     "text": [
      "Blu is 10 years old\n",
      "Woo is 15 years old\n"
     ]
    }
   ],
   "source": [
    "print(\"{} is {} years old\".format( blu.name, blu.age))\n",
    "print(\"{} is {} years old\".format( woo.name, woo.age))"
   ]
  },
  {
   "cell_type": "code",
   "execution_count": 3,
   "id": "e9a3dae9",
   "metadata": {},
   "outputs": [
    {
     "name": "stdout",
     "output_type": "stream",
     "text": [
      "Blu sings 'Happy'\n",
      "Blu is now dancing\n"
     ]
    }
   ],
   "source": [
    "print(blu.sing(\"'Happy'\"))\n",
    "print(blu.dance())"
   ]
  },
  {
   "cell_type": "code",
   "execution_count": 4,
   "id": "b67b9da8",
   "metadata": {},
   "outputs": [
    {
     "name": "stdout",
     "output_type": "stream",
     "text": [
      "Bird is ready\n",
      "Penguin is ready\n",
      "Penguin\n",
      "Swim faster\n",
      "Run faster\n"
     ]
    }
   ],
   "source": [
    "class Penguin(Parrot):\n",
    "\n",
    "    def __init__(self):\n",
    "        # call super() function\n",
    "        super().__initt__()\n",
    "        print(\"Penguin is ready\")\n",
    "\n",
    "    def whoisThis(self):\n",
    "        print(\"Penguin\")\n",
    "\n",
    "    def run(self):\n",
    "        print(\"Run faster\")\n",
    "\n",
    "peggy = Penguin()\n",
    "peggy.whoisThis()\n",
    "peggy.swim()\n",
    "peggy.run()"
   ]
  },
  {
   "cell_type": "code",
   "execution_count": 28,
   "id": "06e7e941",
   "metadata": {},
   "outputs": [
    {
     "data": {
      "text/plain": [
       "'x = 1, y = 2, z = 3'"
      ]
     },
     "execution_count": 28,
     "metadata": {},
     "output_type": "execute_result"
    }
   ],
   "source": [
    "#question 1 :\n",
    "\n",
    "class Point3D :\n",
    "    \n",
    "    def __init__(self,x,y,z) :\n",
    "        self.x=x\n",
    "        self.y=y\n",
    "        self.z=z\n",
    "    \n",
    "    def rtrn (self):\n",
    "        return \"x = {}, y = {}, z = {}\".format( str(self.x), self.y, self.z)\n",
    "    \n",
    "my_point = Point3D(1,2,3)\n",
    "my_point.rtrn()"
   ]
  },
  {
   "cell_type": "code",
   "execution_count": 32,
   "id": "bd9321d7",
   "metadata": {},
   "outputs": [],
   "source": [
    "#question 2 :\n",
    "\n",
    "class Rectangle :\n",
    "    \n",
    "    def __init__ (self,leight,weight) :\n",
    "        self.leight = leight\n",
    "        self.weight = weight\n",
    "    \n",
    "    def area (self) :\n",
    "        return self.leight * self.weight\n",
    "        \n",
    "    def perimeter (self) :\n",
    "        return 2 * (self.leight + self.weight)\n",
    "\n",
    "my_rectangle = Rectangle (4,3)"
   ]
  },
  {
   "cell_type": "code",
   "execution_count": 35,
   "id": "bbc808ac",
   "metadata": {},
   "outputs": [
    {
     "data": {
      "text/plain": [
       "12"
      ]
     },
     "execution_count": 35,
     "metadata": {},
     "output_type": "execute_result"
    }
   ],
   "source": [
    "my_rectangle.area()"
   ]
  },
  {
   "cell_type": "code",
   "execution_count": 34,
   "id": "e4c75581",
   "metadata": {},
   "outputs": [
    {
     "data": {
      "text/plain": [
       "14"
      ]
     },
     "execution_count": 34,
     "metadata": {},
     "output_type": "execute_result"
    }
   ],
   "source": [
    "my_rectangle.perimeter()"
   ]
  },
  {
   "cell_type": "code",
   "execution_count": 53,
   "id": "24310584",
   "metadata": {},
   "outputs": [],
   "source": [
    "#question 3 :\n",
    "\n",
    "class Circle :\n",
    "    \n",
    "    def __init__ (self,center,radius) :\n",
    "        self.center = center\n",
    "        self.radius = radius\n",
    "    \n",
    "    def area (self) :\n",
    "        return 3.14 * self.radius * self.radius\n",
    "        \n",
    "    def perimeter (self) :\n",
    "        return 2 * 3.14 * self.radius\n",
    "    \n",
    "    def inside (self,x,y) :\n",
    "        #(x - center_x)² + (y - center_y)² < radius²\n",
    "        if (x - self.center) * (x - self.center) + (y - self.center) * (y - self.center) <= self.radius * self.radius :\n",
    "            return True\n",
    "        else : \n",
    "            return False"
   ]
  },
  {
   "cell_type": "code",
   "execution_count": 48,
   "id": "e2a5fb94",
   "metadata": {},
   "outputs": [],
   "source": [
    "circle = Circle (0 , 5)"
   ]
  },
  {
   "cell_type": "code",
   "execution_count": 49,
   "id": "a727ecf1",
   "metadata": {},
   "outputs": [
    {
     "data": {
      "text/plain": [
       "78.5"
      ]
     },
     "execution_count": 49,
     "metadata": {},
     "output_type": "execute_result"
    }
   ],
   "source": [
    "circle.area()"
   ]
  },
  {
   "cell_type": "code",
   "execution_count": 50,
   "id": "d9c4318b",
   "metadata": {},
   "outputs": [
    {
     "data": {
      "text/plain": [
       "31.400000000000002"
      ]
     },
     "execution_count": 50,
     "metadata": {},
     "output_type": "execute_result"
    }
   ],
   "source": [
    "circle.perimeter()"
   ]
  },
  {
   "cell_type": "code",
   "execution_count": 55,
   "id": "effa80f2",
   "metadata": {},
   "outputs": [
    {
     "data": {
      "text/plain": [
       "True"
      ]
     },
     "execution_count": 55,
     "metadata": {},
     "output_type": "execute_result"
    }
   ],
   "source": [
    "circle.inside(2 , 3)"
   ]
  },
  {
   "cell_type": "code",
   "execution_count": 68,
   "id": "8d54e08b",
   "metadata": {},
   "outputs": [],
   "source": [
    "#question 4 :\n",
    "\n",
    "class Bank :\n",
    "    \n",
    "    def __init__ (self,balance) :\n",
    "        self.balance = balance\n",
    "    \n",
    "    def withdraw (self,amount) :\n",
    "        if amount <= self.balance :\n",
    "            self.balance -= amount\n",
    "        else :\n",
    "            return \"ure curant balance is inferior than what u want to withdraw\"\n",
    "        \n",
    "    def deposit (self,amount) :\n",
    "        self.balance += amount\n",
    "        \n",
    "    def show_balance (self) :\n",
    "        return self.balance"
   ]
  },
  {
   "cell_type": "code",
   "execution_count": 69,
   "id": "f33b9cbe",
   "metadata": {},
   "outputs": [],
   "source": [
    "mehdi_bank = Bank (2000)"
   ]
  },
  {
   "cell_type": "code",
   "execution_count": 70,
   "id": "8f951ec8",
   "metadata": {},
   "outputs": [
    {
     "data": {
      "text/plain": [
       "4000"
      ]
     },
     "execution_count": 70,
     "metadata": {},
     "output_type": "execute_result"
    }
   ],
   "source": [
    "mehdi_bank.deposit (2000)\n",
    "mehdi_bank.show_balance()"
   ]
  },
  {
   "cell_type": "code",
   "execution_count": 71,
   "id": "1294fd34",
   "metadata": {},
   "outputs": [
    {
     "data": {
      "text/plain": [
       "2000"
      ]
     },
     "execution_count": 71,
     "metadata": {},
     "output_type": "execute_result"
    }
   ],
   "source": [
    "mehdi_bank.withdraw (2000)\n",
    "mehdi_bank.show_balance()"
   ]
  },
  {
   "cell_type": "code",
   "execution_count": null,
   "id": "f19df493",
   "metadata": {},
   "outputs": [],
   "source": []
  }
 ],
 "metadata": {
  "kernelspec": {
   "display_name": "Python 3 (ipykernel)",
   "language": "python",
   "name": "python3"
  },
  "language_info": {
   "codemirror_mode": {
    "name": "ipython",
    "version": 3
   },
   "file_extension": ".py",
   "mimetype": "text/x-python",
   "name": "python",
   "nbconvert_exporter": "python",
   "pygments_lexer": "ipython3",
   "version": "3.9.12"
  }
 },
 "nbformat": 4,
 "nbformat_minor": 5
}
